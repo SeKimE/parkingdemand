{
  "nbformat": 4,
  "nbformat_minor": 0,
  "metadata": {
    "colab": {
      "name": "dacon.ipynb",
      "provenance": [],
      "collapsed_sections": []
    },
    "kernelspec": {
      "name": "python3",
      "display_name": "Python 3"
    },
    "language_info": {
      "name": "python"
    },
    "accelerator": "GPU"
  },
  "cells": [
    {
      "cell_type": "markdown",
      "metadata": {
        "id": "lvAAPzR1p7zo"
      },
      "source": [
        "### 패키지 및 데이터\n",
        "필요한 라이브러리 임포트 및 데이터 파일 읽어오기"
      ]
    },
    {
      "cell_type": "code",
      "metadata": {
        "id": "kMIED5K5pYoD"
      },
      "source": [
        "import numpy as np\n",
        "import pandas as pd\n",
        "\n",
        "from tqdm import tqdm\n",
        "\n",
        "train = pd.read_csv('./data/train.csv')\n",
        "test = pd.read_csv('./data/test.csv')\n",
        "submission = pd.read_csv('./data/sample_submission.csv')"
      ],
      "execution_count": null,
      "outputs": []
    },
    {
      "cell_type": "markdown",
      "metadata": {
        "id": "gTEsHZpLq8XF"
      },
      "source": [
        "### 컬럼명 변경\n",
        "'도보 10분거리 내 지하철역 수(환승노선 수 반영)' -> 지하철\n",
        "\n",
        "'도보 10분거리 내 버스정류장 수' -> 버스"
      ]
    },
    {
      "cell_type": "code",
      "metadata": {
        "id": "VHO7kh0IrJa6"
      },
      "source": [
        "train.columns = [\n",
        "    '단지코드', '총세대수', '임대건물구분', '지역', '공급유형', '전용면적', '전용면적별세대수', '공가수', '자격유형',\n",
        "    '임대보증금', '임대료', '지하철', '버스',\n",
        "    '단지내주차면수', '등록차량수'\n",
        "]\n",
        "\n",
        "test.columns = [\n",
        "    '단지코드', '총세대수', '임대건물구분', '지역', '공급유형', '전용면적', '전용면적별세대수', '공가수', '자격유형',\n",
        "    '임대보증금', '임대료', '지하철', '버스',\n",
        "    '단지내주차면수'\n",
        "]"
      ],
      "execution_count": null,
      "outputs": []
    },
    {
      "cell_type": "markdown",
      "metadata": {
        "id": "66796UAqqtyN"
      },
      "source": [
        "### 결측치 확인"
      ]
    },
    {
      "cell_type": "code",
      "metadata": {
        "colab": {
          "base_uri": "https://localhost:8080/"
        },
        "id": "mDvvDEJdqC3D",
        "outputId": "7b13801e-e746-4a26-e700-dfe4203b09cb"
      },
      "source": [
        "train.isna().sum()"
      ],
      "execution_count": null,
      "outputs": [
        {
          "output_type": "execute_result",
          "data": {
            "text/plain": [
              "단지코드          0\n",
              "총세대수          0\n",
              "임대건물구분        0\n",
              "지역            0\n",
              "공급유형          0\n",
              "전용면적          0\n",
              "전용면적별세대수      0\n",
              "공가수           0\n",
              "자격유형          0\n",
              "임대보증금       549\n",
              "임대료         549\n",
              "지하철         207\n",
              "버스            0\n",
              "단지내주차면수       0\n",
              "등록차량수         0\n",
              "dtype: int64"
            ]
          },
          "metadata": {
            "tags": []
          },
          "execution_count": 5
        }
      ]
    },
    {
      "cell_type": "code",
      "metadata": {
        "colab": {
          "base_uri": "https://localhost:8080/"
        },
        "id": "F9fXyWO3qy87",
        "outputId": "2558762d-554a-47d4-abbd-7619b2437301"
      },
      "source": [
        "test.isna().sum()"
      ],
      "execution_count": null,
      "outputs": [
        {
          "output_type": "execute_result",
          "data": {
            "text/plain": [
              "단지코드          0\n",
              "총세대수          0\n",
              "임대건물구분        0\n",
              "지역            0\n",
              "공급유형          0\n",
              "전용면적          0\n",
              "전용면적별세대수      0\n",
              "공가수           0\n",
              "자격유형          2\n",
              "임대보증금       180\n",
              "임대료         180\n",
              "지하철          42\n",
              "버스            0\n",
              "단지내주차면수       0\n",
              "dtype: int64"
            ]
          },
          "metadata": {
            "tags": []
          },
          "execution_count": 6
        }
      ]
    },
    {
      "cell_type": "markdown",
      "metadata": {
        "id": "WhQ9ZPK4rXfS"
      },
      "source": [
        "자격유형 결측치 경우 아래 행을 참조해 채우도록 설정"
      ]
    },
    {
      "cell_type": "code",
      "metadata": {
        "id": "4HnSPqSkrS4b"
      },
      "source": [
        "train['자격유형'] = train['자격유형'].fillna(method='backfill')\n",
        "test['자격유형'] = test['자격유형'].fillna(method='backfill')"
      ],
      "execution_count": null,
      "outputs": []
    },
    {
      "cell_type": "markdown",
      "metadata": {
        "id": "CIlif5USrgcV"
      },
      "source": [
        "임대보증금과 임대료는 -를 null로 바꾼 뒤 float 타입으로 변경하고 결측치는 1로 채움"
      ]
    },
    {
      "cell_type": "code",
      "metadata": {
        "id": "-KoFfKCvrq7u"
      },
      "source": [
        "train.loc[train.임대보증금=='-', '임대보증금'] = np.nan\n",
        "test.loc[test.임대보증금=='-', '임대보증금'] = np.nan\n",
        "train['임대보증금'] = train['임대보증금'].astype(float)\n",
        "test['임대보증금'] = test['임대보증금'].astype(float)\n",
        "\n",
        "train.loc[train.임대료=='-', '임대료'] = np.nan\n",
        "test.loc[test.임대료=='-', '임대료'] = np.nan\n",
        "train['임대료'] = train['임대료'].astype(float)\n",
        "test['임대료'] = test['임대료'].astype(float)\n",
        "\n",
        "train[['임대보증금', '임대료']] = train[['임대보증금', '임대료']].fillna(1)\n",
        "test[['임대보증금', '임대료']] = test[['임대보증금', '임대료']].fillna(1)"
      ],
      "execution_count": null,
      "outputs": []
    },
    {
      "cell_type": "markdown",
      "metadata": {
        "id": "qqHyEEnOr3L2"
      },
      "source": [
        "### 공급유형, 자격유형 그룹화\n",
        "바페르 님의 공유 코드를 참고 해 그룹화 작업을 진행했습니다.\n",
        "https://dacon.io/competitions/official/235745/codeshare/2851?page=1&dtype=recent"
      ]
    },
    {
      "cell_type": "code",
      "metadata": {
        "id": "Jb0k6hu8r6Wv"
      },
      "source": [
        "train.loc[train.공급유형.isin(['공공임대(5년)', '공공분양', '공공임대(10년)', '공공임대(분납)']), '공급유형'] = '공공임대(5년/10년/분납/분양)'\n",
        "test.loc[test.공급유형.isin(['공공임대(5년)', '공공분양', '공공임대(10년)', '공공임대(분납)']), '공급유형'] = '공공임대(5년/10년/분납/분양)'\n",
        "train.loc[train.공급유형.isin(['장기전세', '국민임대']), '공급유형'] = '국민임대/장기전세'\n",
        "test.loc[test.공급유형.isin(['장기전세', '국민임대']), '공급유형'] = '국민임대/장기전세'\n",
        "\n",
        "train.loc[train.자격유형.isin(['J', 'L', 'K', 'N', 'M', 'O']), '자격유형'] = '행복주택_공급대상'\n",
        "test.loc[test.자격유형.isin(['J', 'L', 'K', 'N', 'M', 'O']), '자격유형'] = '행복주택_공급대상'\n",
        "\n",
        "train.loc[train.자격유형.isin(['H', 'B', 'E', 'G']), '자격유형'] = '국민임대/장기전세_공급대상'\n",
        "test.loc[test.자격유형.isin(['H', 'B', 'E', 'G']), '자격유형'] = '국민임대/장기전세_공급대상'\n",
        "\n",
        "train.loc[train.자격유형.isin(['C', 'I', 'F']), '자격유형'] = '영구임대_공급대상'\n",
        "test.loc[test.자격유형.isin(['C', 'I', 'F']), '자격유형'] = '영구임대_공급대상'"
      ],
      "execution_count": null,
      "outputs": []
    },
    {
      "cell_type": "markdown",
      "metadata": {
        "id": "na69NXuwsUaY"
      },
      "source": [
        "### 문자형 데이터들 숫자로 매핑"
      ]
    },
    {
      "cell_type": "code",
      "metadata": {
        "id": "ognj-o-bshA-"
      },
      "source": [
        "local_map={}\n",
        "for i, loc in enumerate(train['지역'].unique()):\n",
        "    local_map[loc]=i\n",
        "#'경상북도': 0, '경상남도': 1, '대전광역시': 2, '경기도': 3, '전라북도': 4, '강원도': 5, '광주광역시': 6, \n",
        "# '충청남도': 7, '부산광역시': 8, '제주특별자치도': 9, '울산광역시': 10, '충청북도': 11, '전라남도': 12, '대구광역시': 13, \n",
        "# '서울특별시': 14, '세종특별자치시': 15\n",
        "\n",
        "case_map={}\n",
        "for i, case in enumerate(train['임대건물구분'].unique()):\n",
        "    case_map[case] = i\n",
        "#'아파트': 0, '상가': 1\n",
        "\n",
        "supply_map={}\n",
        "for i, stype in enumerate(train['공급유형'].unique()):\n",
        "    supply_map[stype] =i\n",
        "#'국민임대': 0, '공공임대(50년)': 1, '영구임대': 2, '임대상가': 3, '공공임대(10년)': 4, \n",
        "# '공공임대(분납)': 5, '장기전세': 6, '공공분양': 7, '행복주택': 8, '공공임대(5년)': 9\n",
        "# ---> 수정됨\n",
        "#'국민임대/장기전세': 0, '공공임대(50년)': 1, '영구임대': 2, '임대상가': 3, '공공임대(5년/10년/분납/분양)': 4, '행복주택': 5\n",
        "\n",
        "type_map={}\n",
        "for i, s_type in enumerate(train['자격유형'].unique()):\n",
        "    type_map[s_type] = i\n",
        "\n",
        "\n",
        "train['지역'] = train['지역'].map(local_map)\n",
        "test['지역'] = test['지역'].map(local_map)\n",
        "\n",
        "train['임대건물구분'] = train['임대건물구분'].map(case_map)\n",
        "test['임대건물구분'] = test['임대건물구분'].map(case_map)\n",
        "\n",
        "train['공급유형'] = train['공급유형'].map(supply_map)\n",
        "test['공급유형'] = test['공급유형'].map(supply_map)\n",
        "\n",
        "train['자격유형'] = train['자격유형'].map(type_map)\n",
        "test['자격유형'] = test['자격유형'].map(type_map)"
      ],
      "execution_count": null,
      "outputs": []
    },
    {
      "cell_type": "markdown",
      "metadata": {
        "id": "rA8NJkK1svkx"
      },
      "source": [
        "### 파생변수 생성\n",
        "\n",
        "전체면적합 : 단지 내 전용면적의 전체 합\n",
        "\n",
        "건물가치 : 단지 내 임대 보증금의 전체 합\n",
        "\n",
        "평균임대 : 단지 내 한 세대에 대한 평균 임대 보증금\n",
        "\n",
        "55미만/이상 : 전용면적을 55m^2를 기준으로 해 세대수를 따로 계산함\n",
        "\n",
        "아파트, 상가 : 아파트와 상가가 함께 있는 주상복합 단지를 가려내기 위해, 아파트 상가에 대한 변수도 따로 생성\n"
      ]
    },
    {
      "cell_type": "code",
      "metadata": {
        "id": "C7d2Z-2Os9qs"
      },
      "source": [
        "total_area = train['전용면적']*train['전용면적별세대수']\n",
        "train['전체면적합'] = total_area\n",
        "\n",
        "total_area = test['전용면적']*test['전용면적별세대수']\n",
        "test['전체면적합'] = total_area\n",
        "\n",
        "total_fee = train['임대보증금'] * train['전용면적별세대수']\n",
        "train['건물가치'] = total_fee\n",
        "average_fee = total_fee / train['총세대수']\n",
        "train['평균임대'] = average_fee\n",
        "\n",
        "total_fee = test['임대보증금'] * test['전용면적별세대수']\n",
        "test['건물가치'] = total_fee\n",
        "average_fee = total_fee / test['총세대수']\n",
        "test['평균임대'] = average_fee\n",
        "\n",
        "train['is_55미만'] = np.where(train['전용면적']<55,1,0)\n",
        "train['is_55이상'] = np.where(train['전용면적']>=55,1,0)\n",
        "test['is_55미만'] = np.where(test['전용면적']<55,1,0)\n",
        "test['is_55이상'] = np.where(test['전용면적']>=55,1,0)\n",
        "\n",
        "train['temp_55미만'] = train['is_55미만']*train['전용면적별세대수']\n",
        "train['temp_55이상'] = train['is_55이상']*train['전용면적별세대수']\n",
        "test['temp_55미만'] = test['is_55미만']*test['전용면적별세대수']\n",
        "test['temp_55이상'] = test['is_55이상']*test['전용면적별세대수']\n",
        "\n",
        "train['아파트'] = np.where(train['임대건물구분']==0, 1, 0)\n",
        "train['상가'] = np.where(train['임대건물구분']==1, 1, 0)\n",
        "test['아파트'] = np.where(test['임대건물구분']==0, 1, 0)\n",
        "test['상가'] = np.where(test['임대건물구분']==1, 1, 0)"
      ],
      "execution_count": null,
      "outputs": []
    },
    {
      "cell_type": "markdown",
      "metadata": {
        "id": "neTKQjwEtX50"
      },
      "source": [
        "### 전용면적 수정 및 상하한 적용\n",
        "\n",
        "전용면적을 5의 배수의 값을 가지도록 재설정하고, 상하한값을 적용"
      ]
    },
    {
      "cell_type": "code",
      "metadata": {
        "id": "aK1xZPZZtkJy"
      },
      "source": [
        "train['전용면적'] = train['전용면적']//5*5\n",
        "test['전용면적'] = test['전용면적']//5*5\n",
        "\n",
        "idx = train[train['전용면적']>100].index\n",
        "train.loc[idx, '전용면적'] = 100\n",
        "idx = test[test['전용면적']>100].index\n",
        "test.loc[idx, '전용면적'] = 100\n",
        "\n",
        "idx = train[train['전용면적']<15].index\n",
        "train.loc[idx, '전용면적'] = 15\n",
        "idx = test[test['전용면적']<15].index\n",
        "test.loc[idx, '전용면적'] = 15"
      ],
      "execution_count": null,
      "outputs": []
    },
    {
      "cell_type": "markdown",
      "metadata": {
        "id": "mkggoKdNtk4Q"
      },
      "source": [
        "### 같은 코드의 단지끼리 데이터 취합\n"
      ]
    },
    {
      "cell_type": "code",
      "metadata": {
        "colab": {
          "base_uri": "https://localhost:8080/"
        },
        "id": "ZtEMujxZuOec",
        "outputId": "b4f45131-0324-4f24-b59c-10bebcfe1dc3"
      },
      "source": [
        "new_total_area=[] # 전체 면적합 저장\n",
        "change_index=[0] # 단지코드가 변화하는 인덱스를 저장\n",
        "new_total_fee=[] # 전체 임대료 저장\n",
        "new_average_fee=[] # 평균 임대료 저장\n",
        "is_apt=[]\n",
        "is_store=[]\n",
        "over_55=[]\n",
        "lower_55=[]\n",
        "change_index_number = 0\n",
        "\n",
        "for i, code in tqdm(enumerate(train['단지코드'].unique())):\n",
        "    temp = train[train['단지코드']==code]\n",
        "    temp.index = range(temp.shape[0]) #shape[0] : 행의 개수, shape[1] : 열의 개수\n",
        "\n",
        "    number = temp.shape[0]\n",
        "\n",
        "    change_index_number += number\n",
        "    change_index.append(change_index_number)\n",
        "\n",
        "    lastvalue_area = 0\n",
        "    lastvalue_fee = 0\n",
        "    lastvalue_avgfee =0\n",
        "    lastvalue_over55=0\n",
        "    lastvalue_lower55=0\n",
        "    aptvalue=0\n",
        "    storevalue=0\n",
        "    for j in range(number): # 같은 단지 코드내에서 연산 돌아가는 루프\n",
        "        lastvalue_area +=train.iloc[change_index[i]+j]['전체면적합'] # 같은 코드의 전용면적*세대수 총 합\n",
        "        lastvalue_fee += train.iloc[change_index[i]+j]['건물가치']\n",
        "        lastvalue_avgfee += train.iloc[change_index[i]+j]['평균임대']\n",
        "        lastvalue_over55 += train.iloc[change_index[i]+j]['temp_55이상']\n",
        "        lastvalue_lower55 += train.iloc[change_index[i]+j]['temp_55미만']\n",
        "        aptvalue +=train.iloc[change_index[i]+j]['아파트']\n",
        "        storevalue += train.iloc[change_index[i]+j]['상가']\n",
        "\n",
        "    new_total_area.append(lastvalue_area)\n",
        "    new_total_fee.append(lastvalue_fee)\n",
        "    new_average_fee.append(lastvalue_avgfee)\n",
        "    over_55.append(lastvalue_over55)\n",
        "    lower_55.append(lastvalue_lower55)\n",
        "    if aptvalue != 0:\n",
        "        is_apt.append(1)\n",
        "    else:\n",
        "        is_apt.append(aptvalue)\n",
        "    if storevalue != 0:\n",
        "        is_store.append(1)\n",
        "    else:\n",
        "        is_store.append(storevalue)\n",
        "\n",
        "test_new_total_area=[] # 전체 면적합 저장\n",
        "test_new_total_fee=[] # 전체 임대료 저장\n",
        "test_new_average_fee=[] # 평균 임대료 저장\n",
        "test_change_index=[0] # 단지코드가 변화하는 인덱스를 저장\n",
        "test_over_55=[]\n",
        "test_lower_55=[]\n",
        "test_is_apt=[]\n",
        "test_is_store=[]\n",
        "test_change_index_number = 0\n",
        "\n",
        "for i, code in tqdm(enumerate(test['단지코드'].unique())):\n",
        "    temp = test[test['단지코드']==code]\n",
        "    temp.index = range(temp.shape[0]) #shape[0] : 행의 개수, shape[1] : 열의 개수\n",
        "\n",
        "    number = temp.shape[0]\n",
        "\n",
        "    test_change_index_number += number\n",
        "    test_change_index.append(test_change_index_number)\n",
        "\n",
        "    lastvalue_area = 0\n",
        "    lastvalue_fee = 0\n",
        "    lastvalue_avgfee =0\n",
        "    lastvalue_over55=0\n",
        "    lastvalue_lower55=0\n",
        "    aptvalue=0\n",
        "    storevalue=0\n",
        "    for j in range(number): # 같은 단지 코드내에서 연산 돌아가는 루프\n",
        "        lastvalue_area +=test.iloc[test_change_index[i]+j]['전체면적합'] # 같은 코드의 전용면적*세대수 총 합\n",
        "        lastvalue_fee += test.iloc[test_change_index[i]+j]['건물가치']\n",
        "        lastvalue_avgfee += test.iloc[test_change_index[i]+j]['평균임대']\n",
        "        lastvalue_over55 += test.iloc[test_change_index[i]+j]['temp_55이상']\n",
        "        lastvalue_lower55 += test.iloc[test_change_index[i]+j]['temp_55미만']\n",
        "        aptvalue +=test.iloc[test_change_index[i]+j]['아파트']\n",
        "        storevalue += test.iloc[test_change_index[i]+j]['상가']\n",
        "\n",
        "    test_new_total_area.append(lastvalue_area)\n",
        "    test_new_total_fee.append(lastvalue_fee)\n",
        "    test_new_average_fee.append(lastvalue_avgfee)\n",
        "    test_over_55.append(lastvalue_over55)\n",
        "    test_lower_55.append(lastvalue_lower55)\n",
        "    if aptvalue != 0:\n",
        "        test_is_apt.append(1)\n",
        "    else:\n",
        "        test_is_apt.append(aptvalue)\n",
        "    if storevalue != 0:\n",
        "        test_is_store.append(1)\n",
        "    else:\n",
        "        test_is_store.append(storevalue)\n",
        "    \n",
        "new_train = pd.DataFrame()\n",
        "new_test = pd.DataFrame()\n",
        "\n",
        "columns = ['단지코드','총세대수','공급유형','자격유형','공가수', '지역', '지하철','버스','단지내주차면수']\n",
        "target = '등록차량수'\n",
        "\n",
        "for i, code in tqdm(enumerate(train['단지코드'].unique())):\n",
        "    temp = train[train['단지코드']==code]\n",
        "    temp.index = range(temp.shape[0])\n",
        "    for col in columns:\n",
        "        new_train.loc[i, col] = temp.loc[0, col]\n",
        "    \n",
        "    #for col in area_columns:\n",
        "    #    area = float(col.split('_')[-1])\n",
        "    #    new_train.loc[i, col] = temp[temp['전용면적']==area]['전용면적별세대수'].sum()\n",
        "    \n",
        "    new_train.loc[i, '등록차량수'] = temp.loc[0, '등록차량수']\n",
        "    \n",
        "for i, code in tqdm(enumerate(test['단지코드'].unique())):\n",
        "    temp = test[test['단지코드']==code]\n",
        "    temp.index = range(temp.shape[0])\n",
        "    for col in columns:\n",
        "        new_test.loc[i, col] = temp.loc[0, col]\n",
        "\n",
        "new_train.insert(2,'단지전체면적', new_total_area)\n",
        "new_test.insert(2,'단지전체면적', test_new_total_area)\n",
        "\n",
        "new_train.insert(3,'총임대보증금', new_total_fee)\n",
        "new_test.insert(3,'총임대보증금', test_new_total_fee)\n",
        "\n",
        "new_train.insert(4,'평균임대보증금', np.log(new_average_fee))\n",
        "new_test.insert(4,'평균임대보증금', np.log(test_new_average_fee))\n",
        "\n",
        "new_train.insert(5,'55미만세대', lower_55)\n",
        "new_test.insert(5,'55미만세대', test_lower_55)\n",
        "\n",
        "new_train.insert(6,'55이상세대', over_55)\n",
        "new_test.insert(6,'55이상세대', test_over_55)\n",
        "\n",
        "new_train.insert(7, '임대건물_아파트', is_apt)\n",
        "new_test.insert(7, '임대건물_아파트', test_is_apt)\n",
        "\n",
        "new_train.insert(8, '임대건물_상가', is_store)\n",
        "new_test.insert(8, '임대건물_상가', test_is_store)"
      ],
      "execution_count": null,
      "outputs": [
        {
          "output_type": "stream",
          "text": [
            "411it [00:04, 86.20it/s]\n",
            "150it [00:01, 86.69it/s]\n",
            "411it [00:02, 159.24it/s]\n",
            "150it [00:00, 165.88it/s]\n"
          ],
          "name": "stderr"
        }
      ]
    },
    {
      "cell_type": "markdown",
      "metadata": {
        "id": "_zfqwCvauUFT"
      },
      "source": [
        "### 지하철, 버스 결측치 0으로 대체"
      ]
    },
    {
      "cell_type": "code",
      "metadata": {
        "id": "xWZBPUpmuT5J"
      },
      "source": [
        "cols = ['지하철','버스']\n",
        "for col in cols:\n",
        "    mf = new_train[col].value_counts().idxmax()\n",
        "    new_train[col].fillna(mf,inplace=True)\n",
        "\n",
        "cols = ['지하철','버스']\n",
        "for col in cols:\n",
        "    mf = new_test[col].value_counts().idxmax()\n",
        "    new_test[col].fillna(mf,inplace=True)"
      ],
      "execution_count": null,
      "outputs": []
    },
    {
      "cell_type": "markdown",
      "metadata": {
        "id": "MVCxs--1uwTc"
      },
      "source": [
        "### 학습을 위한 축 값 설정"
      ]
    },
    {
      "cell_type": "code",
      "metadata": {
        "id": "LdGhmTvLuaFE"
      },
      "source": [
        "x_train = new_train.iloc[:, 1:-1]\n",
        "y_train = new_train.iloc[:,-1]\n",
        "x_test = new_test.iloc[:,1:]"
      ],
      "execution_count": null,
      "outputs": []
    },
    {
      "cell_type": "markdown",
      "metadata": {
        "id": "3zzkNI_YvAGR"
      },
      "source": [
        "### 학습 모델 파라미터 선정\n",
        "GS.best_params_ 의 결과값에 따라 학습 모델 파라메터 선정 됨"
      ]
    },
    {
      "cell_type": "code",
      "metadata": {
        "colab": {
          "base_uri": "https://localhost:8080/"
        },
        "id": "nv0QXE8OuwHZ",
        "outputId": "fd43c36b-633d-4a71-cad1-4c4878cefc69"
      },
      "source": [
        "from sklearn.metrics import make_scorer\n",
        "def rmse(p,a):\n",
        "    difference = p-a\n",
        "    squared = difference ** 2\n",
        "    mean = squared.mean()\n",
        "    score = np.sqrt(mean)\n",
        "    return score\n",
        "rmse_scorer = make_scorer(rmse, greater_is_better=False)\n",
        "rmse_scorer\n",
        "\n",
        "from sklearn.ensemble import GradientBoostingRegressor\n",
        "\n",
        "model = GradientBoostingRegressor()\n",
        "\n",
        "from sklearn.model_selection import GridSearchCV\n",
        "parameters = {\n",
        "    'max_depth':[1,2,3,4,5,6,7],\n",
        "    'random_state':[10,30,50,70,90],\n",
        "}\n",
        "GS = GridSearchCV(model, param_grid=parameters, cv=20, scoring=rmse_scorer)\n",
        "GS.fit(x_train,y_train)\n",
        "\n",
        "GS.best_params_"
      ],
      "execution_count": null,
      "outputs": [
        {
          "output_type": "execute_result",
          "data": {
            "text/plain": [
              "{'max_depth': 4, 'random_state': 90}"
            ]
          },
          "metadata": {
            "tags": []
          },
          "execution_count": 16
        }
      ]
    },
    {
      "cell_type": "markdown",
      "metadata": {
        "id": "5tk9RTXdvUH0"
      },
      "source": [
        "### 추론\n"
      ]
    },
    {
      "cell_type": "code",
      "metadata": {
        "colab": {
          "base_uri": "https://localhost:8080/"
        },
        "id": "uhptkISgvY0U",
        "outputId": "0375575c-cf9c-4a5a-bb18-7d75280e1c3a"
      },
      "source": [
        "from sklearn.linear_model import ElasticNet, Lasso\n",
        "from sklearn.ensemble import GradientBoostingRegressor\n",
        "from sklearn.pipeline import make_pipeline\n",
        "from sklearn.preprocessing import RobustScaler\n",
        "from sklearn.metrics import mean_absolute_error\n",
        "\n",
        "model_Lasso = make_pipeline(RobustScaler(), Lasso(alpha=0.1, random_state=20))\n",
        "model_ENet = make_pipeline(RobustScaler(), ElasticNet(alpha=0.1, l1_ratio=0.7, random_state=20))\n",
        "model_GBoost = GradientBoostingRegressor(n_estimators=10000, learning_rate=0.05, max_depth=4,max_features='sqrt', min_samples_leaf=10,min_samples_split=5,loss='huber',random_state=90)\n",
        "\n",
        "model_Lasso.fit(x_train, y_train)\n",
        "Lasso_predictions=model_Lasso.predict(x_test)\n",
        "train_Lasso=model_Lasso.predict(x_train)\n",
        "\n",
        "model_ENet.fit(x_train, y_train)\n",
        "ENet_predictions=model_ENet.predict(x_test)\n",
        "train_ENet=model_ENet.predict(x_train)\n",
        "\n",
        "model_GBoost.fit(x_train, y_train)\n",
        "GBoost_predictions=model_GBoost.predict(x_test)\n",
        "train_GBoost=model_GBoost.predict(x_train)"
      ],
      "execution_count": null,
      "outputs": [
        {
          "output_type": "stream",
          "text": [
            "/usr/local/lib/python3.7/dist-packages/sklearn/linear_model/_coordinate_descent.py:476: ConvergenceWarning: Objective did not converge. You might want to increase the number of iterations. Duality gap: 25489.322915440425, tolerance: 6123.326607785889\n",
            "  positive)\n"
          ],
          "name": "stderr"
        }
      ]
    },
    {
      "cell_type": "markdown",
      "metadata": {
        "id": "DLie38UCvdir"
      },
      "source": [
        "### 결과 파일 생성"
      ]
    },
    {
      "cell_type": "code",
      "metadata": {
        "id": "ZZ3H0wyyvfWm"
      },
      "source": [
        "predictions=(Lasso_predictions + ENet_predictions + GBoost_predictions) / 3\n",
        "\n",
        "submission['num'] = predictions\n",
        "submission.to_csv('include_supply_type_3_model.csv', index=False)"
      ],
      "execution_count": null,
      "outputs": []
    }
  ]
}